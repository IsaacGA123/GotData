{
  "cells": [
    {
      "cell_type": "markdown",
      "id": "eef90170",
      "metadata": {
        "id": "eef90170"
      },
      "source": [
        "![Airbnb](https://raw.githubusercontent.com/interviewquery/takehomes/airbnb_1/airbnb_1/logo.png)\n",
        "\n",
        "# TAKE-HOME CHALLENGE: Data Science - Analytics\n",
        "\n",
        "Airbnb is a two-sided marketplace that matches guests to hosts. The\n",
        "booking flow at Airbnb is as follows: a guest finds an available room\n",
        "(listing) that they like, and then they contact the host. Once the guest\n",
        "finds a listing they are interested in, there are three ways to send the\n",
        "host an inquiry: `contact_me`, `book_it`, or `instant_book` (detailed at\n",
        "the bottom of this document). Upon receiving the inquiry, the host can\n",
        "then decide whether or not to accept the request (for `contact_me` and\n",
        "`book_it` methods; `instant_book` is auto-accepted). One of our\n",
        "goals at Airbnb is to increase bookings on our platform.\n",
        "\n",
        "## Prompt\n",
        "\n",
        "You are the first data scientist to join a cross-functional Product and\n",
        "Operations team working to grow bookings in Rio de Janeiro. The team\n",
        "asks you for help with the following:\n",
        "\n",
        "1.  What key metrics would you propose to monitor over time the success\n",
        "    of the team's efforts in improving the guest host matching process\n",
        "    and why? Clearly define your metric(s) and explain how each is\n",
        "    computed.\n",
        "\n",
        "2.  What areas should we invest in to increase the number of successful\n",
        "    bookings in Rio de Janeiro? What segments are doing well and what\n",
        "    could be improved? ​ ​Propose 2-3 specific recommendations (business\n",
        "    initiatives and product changes) that could address these\n",
        "    opportunities. Demonstrate rationale behind each recommendation AND\n",
        "    prioritize your recommendations in order of their estimated impact.\n",
        "\n",
        "3.  There is also interest from executives at Airbnb in the work you\n",
        "    are doing, and a desire to understand the broader framing of the\n",
        "    challenge of matching supply and demand, thinking beyond the data\n",
        "    provided. What other research, experiments, or approaches could help\n",
        "    the company get more clarity on the problem?\n",
        "\n",
        "## Assignment\n",
        "S​ummarize your recommendations in response to the questions above in a Jupyter Notebook intended for\n",
        "the Head of Product and VP of Operations (who is not technical). Include\n",
        "an organized appendix sharing the details of your work conducted for the\n",
        "Rio team, that would be useful for the data team to understand your\n",
        "work.\n",
        "\n",
        "\n",
        "\n",
        "\n",
        "\n",
        "\n",
        "## Grading\n",
        "\n",
        "Your assignment will be judged according to:\n",
        "\n",
        "1.  The analytical approach and clarity of your graphs, tables,\n",
        "    visualizations,\n",
        "\n",
        "2.  The data decisions you made and reproducibility of the analysis,\n",
        "\n",
        "3.  Strength of recommendations, prioritizations, and rationale behind\n",
        "    those,\n",
        "\n",
        "4.  The narrative of your presentation and ability to effectively\n",
        "    communicate to non-technical executives, 5) How well you followed\n",
        "    the directions.\n",
        "\n",
        "## Data Provided\n",
        "\n",
        "### `contacts.csv`​​\n",
        "Contains a row for every time that a user makes an\n",
        "inquiry for a stay at a listing in Rio de Janeiro.\n",
        "\n",
        "-   `id_guest_anon` -​ id of the guest making the inquiry.\n",
        "\n",
        "-   `id_host_anon` -​ id of the host of the listing to which the inquiry is\n",
        "    made.\n",
        "\n",
        "-   `id_listing_anon` -​ id of the listing to which the inquiry is made.\n",
        "\n",
        "-   `ts_interaction_first` -​ UTC timestamp of the moment the inquiry is\n",
        "    made.\n",
        "\n",
        "-   `ts_reply_at_first` -​ UTC timestamp of the moment the host replies to\n",
        "    the inquiry, if so.\n",
        "- `ts_accepted_at_first` - UTC timestamp of the\n",
        "    moment the host accepts the inquiry, if so.​\n",
        "    \n",
        "-    `ts_booking_at` - UTC\n",
        "    timestamp of the moment the booking is made, if so.\n",
        "\n",
        "-   `ds_checkin_first` -​ Date stamp of the check-in date of the inquiry.\n",
        "\n",
        "-   `ds_checkout_first` ​- Date stamp of the check-out date of the inquiry.\n",
        "\n",
        "-   `m_guests` ​- The number of guests the inquiry is for.\n",
        "\n",
        "-   `m_interactions` -​ The total number of messages sent by both the guest\n",
        "    and host.\n",
        "\n",
        "-   `m_first_message_length_in_characters` -​ Number of characters in the\n",
        "    first message sent by the guest, if a message was sent\n",
        "\n",
        "-   `contact_channel_first` -​ The contact channel through which the\n",
        "    inquiry was made. One of {contact_me, book_it, instant_book}. \\*See\n",
        "    bottom of page for more detail\\*\n",
        "\n",
        "-   `guest_user_stage_first` ​- Indicates whether the user has made a\n",
        "    booking before sending the inquiry (\"past booker\"). If the user has\n",
        "    not booked before, then the user is a new user.\n",
        "\n",
        "### `listings.csv`\n",
        "Contains data for every listing in the market\n",
        "\n",
        "-   `id_listing_anon` ​- anonymized id of the listing\n",
        "\n",
        "-   `room_type` -​ indicates whether the room is an entire home, private\n",
        "    room, or shared room\n",
        "\n",
        "-   `listing_neighborhood` -​ the neighborhood of the listing\n",
        "\n",
        "-   `total_reviews` -​ the total number of reviews of the listing (at the\n",
        "    time the data was pulled).\n",
        "\n",
        "### Users\n",
        "Contains data for every user\n",
        "\n",
        "-   `id_user_anon` ​- anonymized id of user\n",
        "\n",
        "-   `words_in_user_profile` - the number of words in the \"about me\"\n",
        "    section of the user's Airbnb profile (at the time of contact)\n",
        "\n",
        "-   `country` -​ origin country of the user\n",
        "\n",
        "## Further Information\n",
        "\n",
        "There are three ways to book a listing on Airbnb:\n",
        "\n",
        "1)  `contact_me` -​ The guests writes a message to the host to inquire\n",
        "    about the listing. The host has the option to 1) pre-​approve the\n",
        "    guest to book their place, or 2) they can reject, or 3) they can\n",
        "    write a free text message with no explicit acceptance or rejection.\n",
        "    If the host pre-​approves, the guest can then go ahead and click to\n",
        "    make the booking (but is not obligated to).\n",
        "\n",
        "2)  `book_it` ​- The guest puts money down to book the place directly,\n",
        "    but the host has to accept the reservation request. If the host\n",
        "    accepts, the booking happens automatically. If you have used Airbnb\n",
        "    before, this shows up as a button labeled \"Request to book\".\n",
        "\n",
        "3)  `instant_book`​ -​ The guest books the listing directly, without any\n",
        "    need for the host to accept or reject actively (it is auto​-accepted\n",
        "    by the host). This shows up as a button labeled \"Book\".\n",
        "\n",
        "### Note​\n",
        "A host can opt-in to the `instant_book` feature. If a host\n",
        "does so, a guest can use the `contact_me` or `instant_book` channels\n",
        "for booking that particular listing, but cannot use the `book_it`\n",
        "functionality. Alternatively, if a host does not opt in, a guest can use\n",
        "the `contact_me` or `book_it` channels only. We suggest that you\n",
        "browse the Airbnb website and look at listings to see the different ways\n",
        "that you can message a host.\n"
      ]
    },
    {
      "cell_type": "code",
      "source": [
        "from google.colab import drive\n",
        "drive.mount('/content/drive')"
      ],
      "metadata": {
        "colab": {
          "base_uri": "https://localhost:8080/"
        },
        "id": "tEIIa4NJDzq8",
        "outputId": "a711e72d-c6ed-40a7-86c5-0666525eec9e"
      },
      "id": "tEIIa4NJDzq8",
      "execution_count": 4,
      "outputs": [
        {
          "output_type": "stream",
          "name": "stdout",
          "text": [
            "Mounted at /content/drive\n"
          ]
        }
      ]
    },
    {
      "cell_type": "code",
      "execution_count": 5,
      "id": "cd210ece",
      "metadata": {
        "colab": {
          "base_uri": "https://localhost:8080/"
        },
        "id": "cd210ece",
        "outputId": "5cb37757-4154-42d9-b560-108e9d19561e"
      },
      "outputs": [
        {
          "output_type": "stream",
          "name": "stdout",
          "text": [
            "Cloning into 'takehomes'...\n",
            "remote: Enumerating objects: 1968, done.\u001b[K\n",
            "remote: Counting objects: 100% (1968/1968), done.\u001b[K\n",
            "remote: Compressing objects: 100% (1222/1222), done.\u001b[K\n",
            "remote: Total 1968 (delta 755), reused 1933 (delta 729), pack-reused 0 (from 0)\u001b[K\n",
            "Receiving objects: 100% (1968/1968), 299.41 MiB | 15.98 MiB/s, done.\n",
            "Resolving deltas: 100% (755/755), done.\n",
            "/content/takehomes/airbnb_1\n",
            "contacts.csv  file.json  listings.csv  logo.png  takehomefile.ipynb  users.csv\n"
          ]
        }
      ],
      "source": [
        "!git clone --branch airbnb_1 https://github.com/interviewquery/takehomes.git\n",
        "%cd takehomes/airbnb_1\n",
        "!ls"
      ]
    },
    {
      "cell_type": "code",
      "execution_count": 7,
      "id": "59ecda69",
      "metadata": {
        "id": "59ecda69"
      },
      "outputs": [],
      "source": [
        "import requests\n",
        "import pandas as pd\n",
        "import numpy as np\n"
      ]
    },
    {
      "cell_type": "code",
      "source": [
        "file_paths = [\"/content/takehomes/airbnb_1/contacts.csv\",\n",
        "              \"/content/takehomes/airbnb_1/listings.csv\",\n",
        "              \"/content/takehomes/airbnb_1/users.csv\"\n",
        "]\n",
        "\n",
        "for file in file_paths:\n",
        "    df = pd.read_csv(file)\n",
        "    print(f\"Contents of {file}:\\n\", df.head())\n"
      ],
      "metadata": {
        "id": "jqLr4pO8BZS6"
      },
      "id": "jqLr4pO8BZS6",
      "execution_count": null,
      "outputs": []
    },
    {
      "cell_type": "code",
      "source": [
        "contacts_df = pd.read_csv(file_paths[0])\n",
        "listings_df = pd.read_csv(file_paths[1])\n",
        "users_df = pd.read_csv(file_paths[2])\n"
      ],
      "metadata": {
        "id": "yIojFd4M9POO"
      },
      "id": "yIojFd4M9POO",
      "execution_count": 10,
      "outputs": []
    },
    {
      "cell_type": "code",
      "source": [
        "contacts_df.dropna(subset=[\"ts_reply_at_first\", \"ts_accepted_at_first\", \"ts_booking_at\"], axis=0, inplace=True)\n",
        "\n",
        "listings_df.dropna(subset=[\"room_type\", \"listing_neighborhood\", \"total_reviews\"], axis=0, inplace=True)\n",
        "\n",
        "users_df.dropna(subset=[\"words_in_user_profile\", \"country\"], axis=0, inplace=True)\n",
        "\n",
        "\n",
        "for df in [contacts_df, listings_df, users_df]:\n",
        "    df.reset_index(drop=True, inplace=True)\n",
        "\n",
        "\n"
      ],
      "metadata": {
        "id": "zTx7BBylSbLG"
      },
      "id": "zTx7BBylSbLG",
      "execution_count": 11,
      "outputs": []
    },
    {
      "cell_type": "code",
      "source": [
        "%matplotlib inline\n",
        "import matplotlib as plt\n",
        "from matplotlib import pyplot\n",
        "\n",
        "plt.pyplot.hist(contacts_df[\"m_interactions\"], bins = 3)\n",
        "\n",
        "plt.pyplot.xlabel(\"m_interactions\")\n",
        "plt.pyplot.ylabel(\"Frequency\")\n",
        "plt.pyplot.title(\"Distribution of m_interactions\")\n"
      ],
      "metadata": {
        "colab": {
          "base_uri": "https://localhost:8080/",
          "height": 489
        },
        "id": "eIYB6nKNsRiz",
        "outputId": "2fd6691a-aa55-470c-d7f4-0966fd278f30"
      },
      "id": "eIYB6nKNsRiz",
      "execution_count": 12,
      "outputs": [
        {
          "output_type": "execute_result",
          "data": {
            "text/plain": [
              "Text(0.5, 1.0, 'Distribution of m_interactions')"
            ]
          },
          "metadata": {},
          "execution_count": 12
        },
        {
          "output_type": "display_data",
          "data": {
            "text/plain": [
              "<Figure size 640x480 with 1 Axes>"
            ],
            "image/png": "[encoded data removed]"
          },
          "metadata": {}
        }
      ]
    },
    {
      "cell_type": "code",
      "source": [
        "plt.pyplot.hist(listings_df[\"total_reviews\"], bins = 3)\n",
        "\n",
        "plt.pyplot.xlabel(\"Total Reviews\")\n",
        "plt.pyplot.ylabel(\"Frequency\")\n",
        "plt.pyplot.title(\"Distribution of Total Reviews\")"
      ],
      "metadata": {
        "colab": {
          "base_uri": "https://localhost:8080/",
          "height": 489
        },
        "id": "wEfpOgMJ06ap",
        "outputId": "47a1cb0d-3f73-4530-9b3f-f289e293aee7"
      },
      "id": "wEfpOgMJ06ap",
      "execution_count": 16,
      "outputs": [
        {
          "output_type": "execute_result",
          "data": {
            "text/plain": [
              "Text(0.5, 1.0, 'Distribution of Total Reviews')"
            ]
          },
          "metadata": {},
          "execution_count": 16
        },
        {
          "output_type": "display_data",
          "data": {
            "text/plain": [
              "<Figure size 640x480 with 1 Axes>"
            ],
            "image/png": "[encoded data removed]"
          },
          "metadata": {}
        }
      ]
    },
    {
      "cell_type": "code",
      "source": [
        "plt.pyplot.hist(contacts_df[\"m_first_message_length_in_characters\"], bins=3)\n",
        "\n",
        "plt.pyplot.xlabel(\"m_first_message_length_in_characters\")\n",
        "plt.pyplot.ylabel(\"Frequency\")\n",
        "plt.pyplot.title(\"Distribution of First message in characters\")"
      ],
      "metadata": {
        "colab": {
          "base_uri": "https://localhost:8080/",
          "height": 489
        },
        "id": "zL9F2Zfj4r4r",
        "outputId": "f85c205e-8398-4b5d-d340-c9da0a1eb3b8"
      },
      "id": "zL9F2Zfj4r4r",
      "execution_count": 14,
      "outputs": [
        {
          "output_type": "execute_result",
          "data": {
            "text/plain": [
              "Text(0.5, 1.0, 'Distribution of First message in characters')"
            ]
          },
          "metadata": {},
          "execution_count": 14
        },
        {
          "output_type": "display_data",
          "data": {
            "text/plain": [
              "<Figure size 640x480 with 1 Axes>"
            ],
            "image/png": "[encoded data removed]"
          },
          "metadata": {}
        }
      ]
    },
    {
      "cell_type": "code",
      "source": [
        "contacts_df.columns"
      ],
      "metadata": {
        "colab": {
          "base_uri": "https://localhost:8080/"
        },
        "id": "awXKMekDBCFF",
        "outputId": "ae14e1f0-38e2-4dc6-aae1-bdaa38fe437a"
      },
      "id": "awXKMekDBCFF",
      "execution_count": 19,
      "outputs": [
        {
          "output_type": "execute_result",
          "data": {
            "text/plain": [
              "Index(['id_guest_anon', 'id_host_anon', 'id_listing_anon',\n",
              "       'ts_interaction_first', 'ts_reply_at_first', 'ts_accepted_at_first',\n",
              "       'ts_booking_at', 'ds_checkin_first', 'ds_checkout_first', 'm_guests',\n",
              "       'm_interactions', 'm_first_message_length_in_characters',\n",
              "       'contact_channel_first', 'guest_user_stage_first'],\n",
              "      dtype='object')"
            ]
          },
          "metadata": {},
          "execution_count": 19
        }
      ]
    },
    {
      "cell_type": "code",
      "source": [
        "dummy_variable_1 = pd.get_dummies(contacts_df[\"contact_channel_first\"])\n",
        "dummy_variable_1.head()"
      ],
      "metadata": {
        "id": "LtRvlMlIwF7G",
        "outputId": "7fe106fa-ec92-40c5-aaff-3bc682d18d29",
        "colab": {
          "base_uri": "https://localhost:8080/",
          "height": 206
        }
      },
      "id": "LtRvlMlIwF7G",
      "execution_count": 22,
      "outputs": [
        {
          "output_type": "execute_result",
          "data": {
            "text/plain": [
              "   book_it  contact_me  instant_book\n",
              "0     True       False         False\n",
              "1    False       False          True\n",
              "2    False       False          True\n",
              "3    False       False          True\n",
              "4     True       False         False"
            ],
            "text/html": [
              "\n",
              "  <div id=\"df-b189c5f8-ecaf-4848-baf9-c5af4dcea4a5\" class=\"colab-df-container\">\n",
              "    <div>\n",
              "<style scoped>\n",
              "    .dataframe tbody tr th:only-of-type {\n",
              "        vertical-align: middle;\n",
              "    }\n",
              "\n",
              "    .dataframe tbody tr th {\n",
              "        vertical-align: top;\n",
              "    }\n",
              "\n",
              "    .dataframe thead th {\n",
              "        text-align: right;\n",
              "    }\n",
              "</style>\n",
              "<table border=\"1\" class=\"dataframe\">\n",
              "  <thead>\n",
              "    <tr style=\"text-align: right;\">\n",
              "      <th></th>\n",
              "      <th>book_it</th>\n",
              "      <th>contact_me</th>\n",
              "      <th>instant_book</th>\n",
              "    </tr>\n",
              "  </thead>\n",
              "  <tbody>\n",
              "    <tr>\n",
              "      <th>0</th>\n",
              "      <td>True</td>\n",
              "      <td>False</td>\n",
              "      <td>False</td>\n",
              "    </tr>\n",
              "    <tr>\n",
              "      <th>1</th>\n",
              "      <td>False</td>\n",
              "      <td>False</td>\n",
              "      <td>True</td>\n",
              "    </tr>\n",
              "    <tr>\n",
              "      <th>2</th>\n",
              "      <td>False</td>\n",
              "      <td>False</td>\n",
              "      <td>True</td>\n",
              "    </tr>\n",
              "    <tr>\n",
              "      <th>3</th>\n",
              "      <td>False</td>\n",
              "      <td>False</td>\n",
              "      <td>True</td>\n",
              "    </tr>\n",
              "    <tr>\n",
              "      <th>4</th>\n",
              "      <td>True</td>\n",
              "      <td>False</td>\n",
              "      <td>False</td>\n",
              "    </tr>\n",
              "  </tbody>\n",
              "</table>\n",
              "</div>\n",
              "    <div class=\"colab-df-buttons\">\n",
              "\n",
              "  <div class=\"colab-df-container\">\n",
              "    <button class=\"colab-df-convert\" onclick=\"convertToInteractive('df-b189c5f8-ecaf-4848-baf9-c5af4dcea4a5')\"\n",
              "            title=\"Convert this dataframe to an interactive table.\"\n",
              "            style=\"display:none;\">\n",
              "\n",
              "  <svg xmlns=\"http://www.w3.org/2000/svg\" height=\"24px\" viewBox=\"0 -960 960 960\">\n",
              "    <path d=\"M120-120v-720h720v720H120Zm60-500h600v-160H180v160Zm220 220h160v-160H400v160Zm0 220h160v-160H400v160ZM180-400h160v-160H180v160Zm440 0h160v-160H620v160ZM180-180h160v-160H180v160Zm440 0h160v-160H620v160Z\"/>\n",
              "  </svg>\n",
              "    </button>\n",
              "\n",
              "  <style>\n",
              "    .colab-df-container {\n",
              "      display:flex;\n",
              "      gap: 12px;\n",
              "    }\n",
              "\n",
              "    .colab-df-convert {\n",
              "      background-color: #E8F0FE;\n",
              "      border: none;\n",
              "      border-radius: 50%;\n",
              "      cursor: pointer;\n",
              "      display: none;\n",
              "      fill: #1967D2;\n",
              "      height: 32px;\n",
              "      padding: 0 0 0 0;\n",
              "      width: 32px;\n",
              "    }\n",
              "\n",
              "    .colab-df-convert:hover {\n",
              "      background-color: #E2EBFA;\n",
              "      box-shadow: 0px 1px 2px rgba(60, 64, 67, 0.3), 0px 1px 3px 1px rgba(60, 64, 67, 0.15);\n",
              "      fill: #174EA6;\n",
              "    }\n",
              "\n",
              "    .colab-df-buttons div {\n",
              "      margin-bottom: 4px;\n",
              "    }\n",
              "\n",
              "    [theme=dark] .colab-df-convert {\n",
              "      background-color: #3B4455;\n",
              "      fill: #D2E3FC;\n",
              "    }\n",
              "\n",
              "    [theme=dark] .colab-df-convert:hover {\n",
              "      background-color: #434B5C;\n",
              "      box-shadow: 0px 1px 3px 1px rgba(0, 0, 0, 0.15);\n",
              "      filter: drop-shadow(0px 1px 2px rgba(0, 0, 0, 0.3));\n",
              "      fill: #FFFFFF;\n",
              "    }\n",
              "  </style>\n",
              "\n",
              "    <script>\n",
              "      const buttonEl =\n",
              "        document.querySelector('#df-b189c5f8-ecaf-4848-baf9-c5af4dcea4a5 button.colab-df-convert');\n",
              "      buttonEl.style.display =\n",
              "        google.colab.kernel.accessAllowed ? 'block' : 'none';\n",
              "\n",
              "      async function convertToInteractive(key) {\n",
              "        const element = document.querySelector('#df-b189c5f8-ecaf-4848-baf9-c5af4dcea4a5');\n",
              "        const dataTable =\n",
              "          await google.colab.kernel.invokeFunction('convertToInteractive',\n",
              "                                                    [key], {});\n",
              "        if (!dataTable) return;\n",
              "\n",
              "        const docLinkHtml = 'Like what you see? Visit the ' +\n",
              "          '<a target=\"_blank\" href=https://colab.research.google.com/notebooks/data_table.ipynb>data table notebook</a>'\n",
              "          + ' to learn more about interactive tables.';\n",
              "        element.innerHTML = '';\n",
              "        dataTable['output_type'] = 'display_data';\n",
              "        await google.colab.output.renderOutput(dataTable, element);\n",
              "        const docLink = document.createElement('div');\n",
              "        docLink.innerHTML = docLinkHtml;\n",
              "        element.appendChild(docLink);\n",
              "      }\n",
              "    </script>\n",
              "  </div>\n",
              "\n",
              "\n",
              "<div id=\"df-1a475316-85c5-4222-9de8-988724a0eeaa\">\n",
              "  <button class=\"colab-df-quickchart\" onclick=\"quickchart('df-1a475316-85c5-4222-9de8-988724a0eeaa')\"\n",
              "            title=\"Suggest charts\"\n",
              "            style=\"display:none;\">\n",
              "\n",
              "<svg xmlns=\"http://www.w3.org/2000/svg\" height=\"24px\"viewBox=\"0 0 24 24\"\n",
              "     width=\"24px\">\n",
              "    <g>\n",
              "        <path d=\"M19 3H5c-1.1 0-2 .9-2 2v14c0 1.1.9 2 2 2h14c1.1 0 2-.9 2-2V5c0-1.1-.9-2-2-2zM9 17H7v-7h2v7zm4 0h-2V7h2v10zm4 0h-2v-4h2v4z\"/>\n",
              "    </g>\n",
              "</svg>\n",
              "  </button>\n",
              "\n",
              "<style>\n",
              "  .colab-df-quickchart {\n",
              "      --bg-color: #E8F0FE;\n",
              "      --fill-color: #1967D2;\n",
              "      --hover-bg-color: #E2EBFA;\n",
              "      --hover-fill-color: #174EA6;\n",
              "      --disabled-fill-color: #AAA;\n",
              "      --disabled-bg-color: #DDD;\n",
              "  }\n",
              "\n",
              "  [theme=dark] .colab-df-quickchart {\n",
              "      --bg-color: #3B4455;\n",
              "      --fill-color: #D2E3FC;\n",
              "      --hover-bg-color: #434B5C;\n",
              "      --hover-fill-color: #FFFFFF;\n",
              "      --disabled-bg-color: #3B4455;\n",
              "      --disabled-fill-color: #666;\n",
              "  }\n",
              "\n",
              "  .colab-df-quickchart {\n",
              "    background-color: var(--bg-color);\n",
              "    border: none;\n",
              "    border-radius: 50%;\n",
              "    cursor: pointer;\n",
              "    display: none;\n",
              "    fill: var(--fill-color);\n",
              "    height: 32px;\n",
              "    padding: 0;\n",
              "    width: 32px;\n",
              "  }\n",
              "\n",
              "  .colab-df-quickchart:hover {\n",
              "    background-color: var(--hover-bg-color);\n",
              "    box-shadow: 0 1px 2px rgba(60, 64, 67, 0.3), 0 1px 3px 1px rgba(60, 64, 67, 0.15);\n",
              "    fill: var(--button-hover-fill-color);\n",
              "  }\n",
              "\n",
              "  .colab-df-quickchart-complete:disabled,\n",
              "  .colab-df-quickchart-complete:disabled:hover {\n",
              "    background-color: var(--disabled-bg-color);\n",
              "    fill: var(--disabled-fill-color);\n",
              "    box-shadow: none;\n",
              "  }\n",
              "\n",
              "  .colab-df-spinner {\n",
              "    border: 2px solid var(--fill-color);\n",
              "    border-color: transparent;\n",
              "    border-bottom-color: var(--fill-color);\n",
              "    animation:\n",
              "      spin 1s steps(1) infinite;\n",
              "  }\n",
              "\n",
              "  @keyframes spin {\n",
              "    0% {\n",
              "      border-color: transparent;\n",
              "      border-bottom-color: var(--fill-color);\n",
              "      border-left-color: var(--fill-color);\n",
              "    }\n",
              "    20% {\n",
              "      border-color: transparent;\n",
              "      border-left-color: var(--fill-color);\n",
              "      border-top-color: var(--fill-color);\n",
              "    }\n",
              "    30% {\n",
              "      border-color: transparent;\n",
              "      border-left-color: var(--fill-color);\n",
              "      border-top-color: var(--fill-color);\n",
              "      border-right-color: var(--fill-color);\n",
              "    }\n",
              "    40% {\n",
              "      border-color: transparent;\n",
              "      border-right-color: var(--fill-color);\n",
              "      border-top-color: var(--fill-color);\n",
              "    }\n",
              "    60% {\n",
              "      border-color: transparent;\n",
              "      border-right-color: var(--fill-color);\n",
              "    }\n",
              "    80% {\n",
              "      border-color: transparent;\n",
              "      border-right-color: var(--fill-color);\n",
              "      border-bottom-color: var(--fill-color);\n",
              "    }\n",
              "    90% {\n",
              "      border-color: transparent;\n",
              "      border-bottom-color: var(--fill-color);\n",
              "    }\n",
              "  }\n",
              "</style>\n",
              "\n",
              "  <script>\n",
              "    async function quickchart(key) {\n",
              "      const quickchartButtonEl =\n",
              "        document.querySelector('#' + key + ' button');\n",
              "      quickchartButtonEl.disabled = true;  // To prevent multiple clicks.\n",
              "      quickchartButtonEl.classList.add('colab-df-spinner');\n",
              "      try {\n",
              "        const charts = await google.colab.kernel.invokeFunction(\n",
              "            'suggestCharts', [key], {});\n",
              "      } catch (error) {\n",
              "        console.error('Error during call to suggestCharts:', error);\n",
              "      }\n",
              "      quickchartButtonEl.classList.remove('colab-df-spinner');\n",
              "      quickchartButtonEl.classList.add('colab-df-quickchart-complete');\n",
              "    }\n",
              "    (() => {\n",
              "      let quickchartButtonEl =\n",
              "        document.querySelector('#df-1a475316-85c5-4222-9de8-988724a0eeaa button');\n",
              "      quickchartButtonEl.style.display =\n",
              "        google.colab.kernel.accessAllowed ? 'block' : 'none';\n",
              "    })();\n",
              "  </script>\n",
              "</div>\n",
              "\n",
              "    </div>\n",
              "  </div>\n"
            ],
            "application/vnd.google.colaboratory.intrinsic+json": {
              "type": "dataframe",
              "variable_name": "dummy_variable_1",
              "summary": "{\n  \"name\": \"dummy_variable_1\",\n  \"rows\": 11587,\n  \"fields\": [\n    {\n      \"column\": \"book_it\",\n      \"properties\": {\n        \"dtype\": \"boolean\",\n        \"num_unique_values\": 2,\n        \"samples\": [\n          false,\n          true\n        ],\n        \"semantic_type\": \"\",\n        \"description\": \"\"\n      }\n    },\n    {\n      \"column\": \"contact_me\",\n      \"properties\": {\n        \"dtype\": \"boolean\",\n        \"num_unique_values\": 2,\n        \"samples\": [\n          true,\n          false\n        ],\n        \"semantic_type\": \"\",\n        \"description\": \"\"\n      }\n    },\n    {\n      \"column\": \"instant_book\",\n      \"properties\": {\n        \"dtype\": \"boolean\",\n        \"num_unique_values\": 2,\n        \"samples\": [\n          true,\n          false\n        ],\n        \"semantic_type\": \"\",\n        \"description\": \"\"\n      }\n    }\n  ]\n}"
            }
          },
          "metadata": {},
          "execution_count": 22
        }
      ]
    },
    {
      "cell_type": "code",
      "source": [
        "dummy_variable_1.rename(columns={''})"
      ],
      "metadata": {
        "id": "YyRML2aXwsuH"
      },
      "id": "YyRML2aXwsuH",
      "execution_count": null,
      "outputs": []
    }
  ],
  "metadata": {
    "kernelspec": {
      "display_name": "Python 3 (ipykernel)",
      "language": "python",
      "name": "python3"
    },
    "language_info": {
      "codemirror_mode": {
        "name": "ipython",
        "version": 3
      },
      "file_extension": ".py",
      "mimetype": "text/x-python",
      "name": "python",
      "nbconvert_exporter": "python",
      "pygments_lexer": "ipython3",
      "version": "3.10.5"
    },
    "colab": {
      "provenance": []
    }
  },
  "nbformat": 4,
  "nbformat_minor": 5
}